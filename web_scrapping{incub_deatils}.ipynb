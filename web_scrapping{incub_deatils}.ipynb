{
 "cells": [
  {
   "cell_type": "code",
   "execution_count": 2,
   "id": "03f14471-13ee-4522-865b-e974a84bd8d4",
   "metadata": {},
   "outputs": [],
   "source": [
    "from bs4 import BeautifulSoup\n",
    "from selenium import webdriver\n",
    "import time\n",
    "chrome_options = webdriver.ChromeOptions()\n",
    "# Set page load and script timeouts\n",
    "chrome_options.page_load_timeout = 150  # Increase the timeout value as needed\n",
    "chrome_options.script_timeout = 150\n",
    "driver = webdriver.Chrome(options=chrome_options)\n",
    "\n",
    "base_url = 'https://www.startupindia.gov.in/content/sih/en/search.html?roles=Incubator&page=127'\n",
    "url = base_url\n",
    "driver.get(url)\n",
    "time.sleep(75)\n",
    "page_source = driver.page_source\n",
    "soup = BeautifulSoup(page_source, 'html.parser')\n",
    "incubators = soup.find_all(\"div\", {\"class\": \"col-md-4 col-sm-6 col-space20\"})\n"
   ]
  },
  {
   "cell_type": "code",
   "execution_count": 4,
   "id": "9147633a-7bac-4a28-998b-60871f6ece06",
   "metadata": {},
   "outputs": [],
   "source": [
    "incubator_names=[]\n",
    "focus_industries=[]\n",
    "locations=[]\n",
    "for i in incubators:\n",
    "    incubator_name=i.find(\"h3\").text.strip()\n",
    "    incubator_names.append(incubator_name)\n",
    "    location=i.find(\"li\").text.strip()\n",
    "    location=location.replace(\"\\n\",\" \").strip()\n",
    "    locations.append(location)\n",
    "    focus_industry=i.find(\"div\",{\"class\":\"down-dept\"}).text.strip()\n",
    "    focus_industries.append(focus_industry)\n",
    "\n",
    "    "
   ]
  },
  {
   "cell_type": "code",
   "execution_count": 5,
   "id": "54618903-e6c7-40ab-80ae-7f09e8534c3e",
   "metadata": {},
   "outputs": [
    {
     "data": {
      "text/plain": [
       "1136"
      ]
     },
     "execution_count": 5,
     "metadata": {},
     "output_type": "execute_result"
    }
   ],
   "source": [
    "len(incubator_names)"
   ]
  },
  {
   "cell_type": "code",
   "execution_count": 6,
   "id": "262a07ba-07a9-4d36-b4bf-f858d2517286",
   "metadata": {},
   "outputs": [
    {
     "data": {
      "text/plain": [
       "1136"
      ]
     },
     "execution_count": 6,
     "metadata": {},
     "output_type": "execute_result"
    }
   ],
   "source": [
    "len(focus_industries)"
   ]
  },
  {
   "cell_type": "code",
   "execution_count": 7,
   "id": "98c99c09-691f-4904-b7c3-57c2b232ca89",
   "metadata": {},
   "outputs": [
    {
     "data": {
      "text/plain": [
       "1136"
      ]
     },
     "execution_count": 7,
     "metadata": {},
     "output_type": "execute_result"
    }
   ],
   "source": [
    "len(locations)"
   ]
  },
  {
   "cell_type": "code",
   "execution_count": 8,
   "id": "299af69b-21a5-4498-9b3b-3add6ceb2a13",
   "metadata": {},
   "outputs": [],
   "source": [
    "import pandas as pd"
   ]
  },
  {
   "cell_type": "code",
   "execution_count": 12,
   "id": "0e90f532-a2a7-47c0-a7ea-d9897e14cb95",
   "metadata": {},
   "outputs": [],
   "source": [
    "\n",
    "incub_details1={\"incubator_names\":incubator_names,\"locations\":locations,\"focus_industries\":focus_industries}\n",
    "incub_details=r\"C:\\Users\\hp\\Desktop\\python_files\\incub_details.xlsx\"\n",
    "incub_deatails=pd.DataFrame(incub_details1)\n",
    "incub_deatails.to_excel(incub_details,index=False)\n"
   ]
  },
  {
   "cell_type": "code",
   "execution_count": 13,
   "id": "c9481c75-e105-4fe3-8924-4de0cf2b9eb4",
   "metadata": {},
   "outputs": [
    {
     "ename": "SyntaxError",
     "evalue": "invalid syntax (2830201818.py, line 1)",
     "output_type": "error",
     "traceback": [
      "\u001b[1;36m  Cell \u001b[1;32mIn[13], line 1\u001b[1;36m\u001b[0m\n\u001b[1;33m    git init\u001b[0m\n\u001b[1;37m        ^\u001b[0m\n\u001b[1;31mSyntaxError\u001b[0m\u001b[1;31m:\u001b[0m invalid syntax\n"
     ]
    }
   ],
   "source": []
  },
  {
   "cell_type": "code",
   "execution_count": null,
   "id": "507c4766-f28c-4a05-8bcf-b200143e25a3",
   "metadata": {},
   "outputs": [],
   "source": []
  }
 ],
 "metadata": {
  "kernelspec": {
   "display_name": "Python 3 (ipykernel)",
   "language": "python",
   "name": "python3"
  },
  "language_info": {
   "codemirror_mode": {
    "name": "ipython",
    "version": 3
   },
   "file_extension": ".py",
   "mimetype": "text/x-python",
   "name": "python",
   "nbconvert_exporter": "python",
   "pygments_lexer": "ipython3",
   "version": "3.11.4"
  }
 },
 "nbformat": 4,
 "nbformat_minor": 5
}
